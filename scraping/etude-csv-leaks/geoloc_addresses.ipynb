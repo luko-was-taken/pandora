{
 "cells": [
  {
   "cell_type": "markdown",
   "metadata": {},
   "source": [
    "### OBJECTIF : Obtenir la géolocalisation des adresses renseignées dans les différents fichiers"
   ]
  },
  {
   "cell_type": "code",
   "execution_count": 4,
   "metadata": {},
   "outputs": [],
   "source": [
    "from geopy.geocoders import Nominatim\n",
    "import time\n",
    "from pprint import pprint\n",
    "import re"
   ]
  },
  {
   "cell_type": "code",
   "execution_count": 5,
   "metadata": {},
   "outputs": [],
   "source": [
    "app = Nominatim(user_agent=\"tutorial\")"
   ]
  },
  {
   "cell_type": "code",
   "execution_count": 10,
   "metadata": {},
   "outputs": [],
   "source": [
    "def find_loc(address):\n",
    "    components = re.split(';|,', address)\n",
    "    do_regex = True\n",
    "    if do_regex :\n",
    "        for elem in components :\n",
    "            if re.match(r\"( P.O. BOX )|( P.O BOX )\", elem):\n",
    "                components.remove(elem)\n",
    "        do_regex = False        \n",
    "\n",
    "    while (len(components)>=1):\n",
    "        address = ''\n",
    "        for elem in components :\n",
    "            address += elem + \" \"\n",
    "        try:\n",
    "            time.sleep(1)\n",
    "            return app.geocode(address).raw\n",
    "        except:\n",
    "            components = components[1:]\n",
    "    return None\n",
    "        "
   ]
  },
  {
   "cell_type": "code",
   "execution_count": 12,
   "metadata": {},
   "outputs": [
    {
     "name": "stdout",
     "output_type": "stream",
     "text": [
      "SUITE E-2,UNION COURT BUILDING, P.O. BOX N-8188, NASSAU, BAHAMAS\n",
      "{'place_id': 303176, 'licence': 'Data © OpenStreetMap contributors, ODbL 1.0. https://osm.org/copyright', 'osm_type': 'node', 'osm_id': 115664268, 'boundingbox': ['24.9183456', '25.2383456', '-77.4983331', '-77.1783331'], 'lat': '25.0783456', 'lon': '-77.3383331', 'display_name': 'Nassau, New Providence, 242, The Bahamas', 'class': 'place', 'type': 'city', 'importance': 0.7775264922538117, 'icon': 'https://nominatim.openstreetmap.org/ui/mapicons//poi_place_city.p.20.png'}\n",
      "LYFORD CAY HOUSE, LYFORD CAY, P.O. BOX N-7785, NASSAU, BAHAMAS\n",
      "{'place_id': 303176, 'licence': 'Data © OpenStreetMap contributors, ODbL 1.0. https://osm.org/copyright', 'osm_type': 'node', 'osm_id': 115664268, 'boundingbox': ['24.9183456', '25.2383456', '-77.4983331', '-77.1783331'], 'lat': '25.0783456', 'lon': '-77.3383331', 'display_name': 'Nassau, New Providence, 242, The Bahamas', 'class': 'place', 'type': 'city', 'importance': 0.7775264922538117, 'icon': 'https://nominatim.openstreetmap.org/ui/mapicons//poi_place_city.p.20.png'}\n",
      "PROVIDENCE HOUSE, EAST WING EAST HILL ST, P.O. BOX CB-12399, NASSAU, BAHAMAS\n",
      "{'place_id': 303176, 'licence': 'Data © OpenStreetMap contributors, ODbL 1.0. https://osm.org/copyright', 'osm_type': 'node', 'osm_id': 115664268, 'boundingbox': ['24.9183456', '25.2383456', '-77.4983331', '-77.1783331'], 'lat': '25.0783456', 'lon': '-77.3383331', 'display_name': 'Nassau, New Providence, 242, The Bahamas', 'class': 'place', 'type': 'city', 'importance': 0.7775264922538117, 'icon': 'https://nominatim.openstreetmap.org/ui/mapicons//poi_place_city.p.20.png'}\n",
      "11 Coomber Road, The Peak, Hong Kong\n",
      "{'place_id': 3676483, 'licence': 'Data © OpenStreetMap contributors, ODbL 1.0. https://osm.org/copyright', 'osm_type': 'node', 'osm_id': 457894077, 'boundingbox': ['22.2499166', '22.2899166', '114.1306667', '114.1706667'], 'lat': '22.2699166', 'lon': '114.1506667', 'display_name': '山頂 The Peak, 中西區 Central and Western District, 香港島 Hong Kong Island, 香港 Hong Kong, 000000, 中国', 'class': 'place', 'type': 'suburb', 'importance': 0.675, 'icon': 'https://nominatim.openstreetmap.org/ui/mapicons//poi_place_village.p.20.png'}\n",
      "4 Irish Place 2nd Floor, Gibraltar.\n",
      "{'place_id': 281459885, 'licence': 'Data © OpenStreetMap contributors, ODbL 1.0. https://osm.org/copyright', 'osm_type': 'relation', 'osm_id': 1278736, 'boundingbox': ['36.058755', '36.1550376', '-5.4006553', '-5.2766611'], 'lat': '36.140807', 'lon': '-5.3541295', 'display_name': 'Gibraltar', 'class': 'boundary', 'type': 'administrative', 'importance': 0.7747207705880548, 'icon': 'https://nominatim.openstreetmap.org/ui/mapicons//poi_boundary_administrative.p.20.png'}\n",
      "-\t27 ROSEWOOD DRIVE #16-19 SINGAPORE 737920\n",
      "None\n",
      "Almaly Village v.5, Almaty Kazakhstan\n",
      "{'place_id': 281611148, 'licence': 'Data © OpenStreetMap contributors, ODbL 1.0. https://osm.org/copyright', 'osm_type': 'relation', 'osm_id': 2465058, 'boundingbox': ['43.0328438', '43.4037657', '76.7382775', '77.1667539'], 'lat': '43.2363924', 'lon': '76.9457275', 'display_name': 'Алматы, Қазақстан', 'class': 'boundary', 'type': 'administrative', 'importance': 0.6436156316050982, 'icon': 'https://nominatim.openstreetmap.org/ui/mapicons//poi_boundary_administrative.p.20.png'}\n",
      "Cantonia South Road St Georges Hill Weybridge, Surrey6B Chenyu Court; 22-24 Kennedy Road; Hong Kong\n",
      "{'place_id': 105402836, 'licence': 'Data © OpenStreetMap contributors, ODbL 1.0. https://osm.org/copyright', 'osm_type': 'way', 'osm_id': 22598189, 'boundingbox': ['22.2763958', '22.2764527', '114.1576338', '114.1577891'], 'lat': '22.2764527', 'lon': '114.1576338', 'display_name': '堅尼地道 Kennedy Road, 政府山 Government Hill, 半山 Mid-Levels, 中西區 Central and Western District, 香港島 Hong Kong Island, 香港 Hong Kong, 000000, 中国', 'class': 'highway', 'type': 'secondary', 'importance': 0.5}\n",
      "15C Suchun Industrial Square; Suzhou Industrial Park; 215126 Suzhou; People's Republic of China\n",
      "{'place_id': 282179722, 'licence': 'Data © OpenStreetMap contributors, ODbL 1.0. https://osm.org/copyright', 'osm_type': 'relation', 'osm_id': 7363894, 'boundingbox': ['31.2312711', '31.4378907', '120.6353599', '120.8598127'], 'lat': '31.334547999999998', 'lon': '120.74353764874495', 'display_name': '苏州工业园区, 苏州市, 江苏省, 中国', 'class': 'boundary', 'type': 'administrative', 'importance': 0.3990014168913938, 'icon': 'https://nominatim.openstreetmap.org/ui/mapicons//poi_boundary_administrative.p.20.png'}\n",
      "8F., No. 68; Minfu 13th St. Taoyuan County; 330; Taiwan\n",
      "{'place_id': 144033619, 'licence': 'Data © OpenStreetMap contributors, ODbL 1.0. https://osm.org/copyright', 'osm_type': 'way', 'osm_id': 180526040, 'boundingbox': ['25.0118827', '25.0124732', '121.3180041', '121.3197106'], 'lat': '25.0121699', 'lon': '121.3188004', 'display_name': '民富十三街, 大有里, 桃園區, 桃園市, 330, 臺灣', 'class': 'highway', 'type': 'service', 'importance': 0.18499999999999997}\n",
      "No. 66, Ln. 20; Dafu Rd., Shengang Township; 429 Taichung County; Taiwan\n",
      "{'place_id': 188148813, 'licence': 'Data © OpenStreetMap contributors, ODbL 1.0. https://osm.org/copyright', 'osm_type': 'way', 'osm_id': 372606114, 'boundingbox': ['24.1004978', '24.1106429', '120.6112129', '120.6196052'], 'lat': '24.1060508', 'lon': '120.6152863', 'display_name': '東西向快速公路 快官霧峰線, 湖日里, 烏日區, 田中里, 彰化市, 彰化縣, 臺灣省, 41457, 臺灣', 'class': 'highway', 'type': 'trunk', 'importance': 0.09999999999999998}\n"
     ]
    }
   ],
   "source": [
    "addresses = [\"SUITE E-2,UNION COURT BUILDING, P.O. BOX N-8188, NASSAU, BAHAMAS\",\n",
    "\"LYFORD CAY HOUSE, LYFORD CAY, P.O. BOX N-7785, NASSAU, BAHAMAS\",\n",
    "\"PROVIDENCE HOUSE, EAST WING EAST HILL ST, P.O. BOX CB-12399, NASSAU, BAHAMAS\",\n",
    "\"11 Coomber Road, The Peak, Hong Kong\",\n",
    "\"4 Irish Place 2nd Floor, Gibraltar.\",\n",
    "\"-\t27 ROSEWOOD DRIVE #16-19 SINGAPORE 737920\",\n",
    "\"Almaly Village v.5, Almaty Kazakhstan\",\n",
    "\"Cantonia South Road St Georges Hill Weybridge, Surrey\"\n",
    "\"6B Chenyu Court; 22-24 Kennedy Road; Hong Kong\",\n",
    "\"15C Suchun Industrial Square; Suzhou Industrial Park; 215126 Suzhou; People's Republic of China\",\n",
    "\"8F., No. 68; Minfu 13th St. Taoyuan County; 330; Taiwan\",\n",
    "\"No. 66, Ln. 20; Dafu Rd., Shengang Township; 429 Taichung County; Taiwan\"]\n",
    "\n",
    "for elem in addresses :\n",
    "    print(elem)\n",
    "    print(find_loc(elem))"
   ]
  },
  {
   "cell_type": "code",
   "execution_count": null,
   "metadata": {},
   "outputs": [],
   "source": []
  }
 ],
 "metadata": {
  "interpreter": {
   "hash": "e4152fc55637a2f02741275b62aa99d3528e817d75779cb88320532a4cdd2304"
  },
  "kernelspec": {
   "display_name": "Python 3.8.8 64-bit ('base': conda)",
   "name": "python3"
  },
  "language_info": {
   "codemirror_mode": {
    "name": "ipython",
    "version": 3
   },
   "file_extension": ".py",
   "mimetype": "text/x-python",
   "name": "python",
   "nbconvert_exporter": "python",
   "pygments_lexer": "ipython3",
   "version": "3.8.8"
  },
  "orig_nbformat": 4
 },
 "nbformat": 4,
 "nbformat_minor": 2
}
