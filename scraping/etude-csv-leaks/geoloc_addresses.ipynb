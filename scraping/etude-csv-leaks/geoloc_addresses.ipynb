{
 "cells": [
  {
   "cell_type": "markdown",
   "metadata": {},
   "source": [
    "### OBJECTIF : Obtenir la géolocalisation des adresses renseignées dans les différents fichiers"
   ]
  },
  {
   "cell_type": "code",
   "execution_count": 18,
   "metadata": {},
   "outputs": [],
   "source": [
    "from geopy.geocoders import Nominatim\n",
    "import time\n",
    "from pprint import pprint\n",
    "import re"
   ]
  },
  {
   "cell_type": "code",
   "execution_count": 19,
   "metadata": {},
   "outputs": [],
   "source": [
    "app = Nominatim(user_agent=\"tutorial\")"
   ]
  },
  {
   "cell_type": "code",
   "execution_count": 20,
   "metadata": {},
   "outputs": [],
   "source": [
    "def get_location_with_modified_address(address,do_regex=True):\n",
    "    \"\"\"This function returns a location with an address that suits better to the geolocator algorithm by substracting details from the original address such as p.o box or building number\"\"\"\n",
    "    # print(address)\n",
    "    time.sleep(1)\n",
    "    # Address = [Details]+[Simple address]\n",
    "    # Details = P.O. Box, building nulber, floor, building name...\n",
    "    components = re.split(';|,', address)\n",
    "    # print(components)\n",
    "    if do_regex :\n",
    "        for elem in components :\n",
    "            if re.match(r\"( P.O. BOX )|( P.O BOX )\", elem):\n",
    "                components.remove(elem)\n",
    "    else:\n",
    "        components = components[1:]\n",
    "    # print(\"FINAL============\",components)\n",
    "    if len(components) > 1 :\n",
    "        modified_address = \"\"\n",
    "        modified_address_coma = \"\"\n",
    "        for elem in components :\n",
    "            modified_address += elem + \" \"\n",
    "            modified_address_coma += elem + \", \"\n",
    "        modified_address_coma = modified_address_coma[:-1]\n",
    "        modified_address = \" \".join(modified_address.split())\n",
    "        modified_address_coma = \" \".join(modified_address_coma.split())\n",
    "        try :\n",
    "            print(type(modified_address))\n",
    "            print(\"modified address:\", modified_address)\n",
    "            if modified_address == \"NASSAU BAHAMAS\" :\n",
    "                print(app.geocode(modified_address).raw)\n",
    "            return app.geocode(str(modified_address)).raw\n",
    "        except:\n",
    "            print(\"modified address with coma:\", modified_address_coma)\n",
    "            get_location_with_modified_address(address=modified_address_coma,do_regex=False)\n",
    "    else : \n",
    "        try :\n",
    "            return app.geocode(address).raw\n",
    "        except :\n",
    "            return None\n",
    "\n"
   ]
  },
  {
   "cell_type": "code",
   "execution_count": 21,
   "metadata": {},
   "outputs": [],
   "source": [
    "def fit_address(address):\n",
    "    \"\"\"This function returns a location with a modified address if the given one is not working \"\"\"\n",
    "    print(\"fit address\")\n",
    "    time.sleep(1)\n",
    "    try:\n",
    "        return app.geocode(address).raw\n",
    "    except:\n",
    "        get_location_with_modified_address(address)"
   ]
  },
  {
   "cell_type": "code",
   "execution_count": 22,
   "metadata": {},
   "outputs": [],
   "source": [
    "def get_location_by_address(address):\n",
    "    \"\"\"This function returns a location as raw from an address\n",
    "    will repeat until success\"\"\"\n",
    "    try:\n",
    "        fit_address(address)\n",
    "    except:\n",
    "        # return get_location_by_address(address)\n",
    "        return \"failed\""
   ]
  },
  {
   "cell_type": "code",
   "execution_count": 23,
   "metadata": {},
   "outputs": [
    {
     "name": "stdout",
     "output_type": "stream",
     "text": [
      "fit address\n",
      "<class 'str'>\n",
      "modified address: SUITE E-2 UNION COURT BUILDING NASSAU BAHAMAS\n",
      "modified address with coma: SUITE E-2, UNION COURT BUILDING, NASSAU, BAHAMAS,\n",
      "<class 'str'>\n",
      "modified address: UNION COURT BUILDING NASSAU BAHAMAS\n",
      "modified address with coma: UNION COURT BUILDING, NASSAU, BAHAMAS, ,\n",
      "<class 'str'>\n",
      "modified address: NASSAU BAHAMAS\n",
      "{'place_id': 303176, 'licence': 'Data © OpenStreetMap contributors, ODbL 1.0. https://osm.org/copyright', 'osm_type': 'node', 'osm_id': 115664268, 'boundingbox': ['24.9183456', '25.2383456', '-77.4983331', '-77.1783331'], 'lat': '25.0783456', 'lon': '-77.3383331', 'display_name': 'Nassau, New Providence, 242, The Bahamas', 'class': 'place', 'type': 'city', 'importance': 0.7775264922538117, 'icon': 'https://nominatim.openstreetmap.org/ui/mapicons//poi_place_city.p.20.png'}\n",
      "None\n"
     ]
    }
   ],
   "source": [
    "addresses = [\"SUITE E-2,UNION COURT BUILDING, P.O. BOX N-8188, NASSAU, BAHAMAS\",\n",
    "\"LYFORD CAY HOUSE, LYFORD CAY, P.O. BOX N-7785, NASSAU, BAHAMAS\",\n",
    "\"PROVIDENCE HOUSE, EAST WING EAST HILL ST, P.O. BOX CB-12399, NASSAU, BAHAMAS\",\n",
    "\"11 Coomber Road, The Peak, Hong Kong\",\n",
    "\"4 Irish Place 2nd Floor, Gibraltar.\",\n",
    "\"-\t27 ROSEWOOD DRIVE #16-19 SINGAPORE 737920\",\n",
    "\"Almaly Village v.5, Almaty Kazakhstan\",\n",
    "\"Cantonia South Road St Georges Hill Weybridge, Surrey\"\n",
    "\"6B Chenyu Court; 22-24 Kennedy Road; Hong Kong\",\n",
    "\"15C Suchun Industrial Square; Suzhou Industrial Park; 215126 Suzhou; People's Republic of China\",\n",
    "\"8F., No. 68; Minfu 13th St. Taoyuan County; 330; Taiwan\",\n",
    "\"No. 66, Ln. 20; Dafu Rd., Shengang Township; 429 Taichung County; Taiwan\"]\n",
    "\n",
    "print(get_location_by_address(\"SUITE E-2,UNION COURT BUILDING, P.O. BOX N-8188, NASSAU, BAHAMAS\"))"
   ]
  },
  {
   "cell_type": "code",
   "execution_count": 24,
   "metadata": {},
   "outputs": [
    {
     "name": "stdout",
     "output_type": "stream",
     "text": [
      "<class 'str'>\n"
     ]
    }
   ],
   "source": [
    "print(type(\"NASSAU BAHAMAS\"))\n",
    "coords = app.geocode(\"NASSAU BAHAMAS\")"
   ]
  },
  {
   "cell_type": "code",
   "execution_count": 25,
   "metadata": {},
   "outputs": [],
   "source": [
    "try :\n",
    "    coords = app.geocode(\"NASSAU BAHAMAS\")\n",
    "except :\n",
    "    print(\"nok\")"
   ]
  },
  {
   "cell_type": "code",
   "execution_count": 26,
   "metadata": {},
   "outputs": [
    {
     "name": "stdout",
     "output_type": "stream",
     "text": [
      "Nassau, New Providence, 242, The Bahamas\n"
     ]
    }
   ],
   "source": [
    "print(coords)"
   ]
  },
  {
   "cell_type": "code",
   "execution_count": 27,
   "metadata": {},
   "outputs": [
    {
     "data": {
      "text/plain": [
       "'edd 12'"
      ]
     },
     "execution_count": 27,
     "metadata": {},
     "output_type": "execute_result"
    }
   ],
   "source": [
    "re.sub(r\"^\\s+|\\s+$\", \"\", \"  edd 12   \")"
   ]
  },
  {
   "cell_type": "code",
   "execution_count": 28,
   "metadata": {},
   "outputs": [
    {
     "data": {
      "text/plain": [
       "'edd 12'"
      ]
     },
     "execution_count": 28,
     "metadata": {},
     "output_type": "execute_result"
    }
   ],
   "source": [
    "\" \".join(\"  edd   12   \".split())"
   ]
  },
  {
   "cell_type": "code",
   "execution_count": null,
   "metadata": {},
   "outputs": [],
   "source": []
  }
 ],
 "metadata": {
  "interpreter": {
   "hash": "e4152fc55637a2f02741275b62aa99d3528e817d75779cb88320532a4cdd2304"
  },
  "kernelspec": {
   "display_name": "Python 3.8.8 64-bit ('base': conda)",
   "name": "python3"
  },
  "language_info": {
   "codemirror_mode": {
    "name": "ipython",
    "version": 3
   },
   "file_extension": ".py",
   "mimetype": "text/x-python",
   "name": "python",
   "nbconvert_exporter": "python",
   "pygments_lexer": "ipython3",
   "version": "3.8.8"
  },
  "orig_nbformat": 4
 },
 "nbformat": 4,
 "nbformat_minor": 2
}
