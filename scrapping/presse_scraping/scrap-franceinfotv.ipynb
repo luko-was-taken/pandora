{
 "cells": [
  {
   "cell_type": "code",
   "execution_count": 2,
   "metadata": {},
   "outputs": [],
   "source": [
    "import requests\n",
    "from bs4 import BeautifulSoup as bs\n",
    "import time\n",
    "from random import randint\n"
   ]
  },
  {
   "cell_type": "code",
   "execution_count": 97,
   "metadata": {},
   "outputs": [
    {
     "name": "stdout",
     "output_type": "stream",
     "text": [
      "\n",
      "----------------------------------------------------------------------------------------------------------------------------------------------------------------\n",
      "Grâce aux paradis fiscaux, Dominique Strauss-Kahn a économisé des millions d'euros d'impôts. C'est l'une des révélations des \"Pandora Papers\". Voici comment l'ancien patron du FMI s'y est pris.\n",
      "----------------------------------------------------------------------------------------------------------------------------------------------------------------\n",
      "\n",
      "----------------------------------------------------------------------------------------------------------------------------------------------------------------\n",
      "Une nouvelle enquête du consortium international des journalistes révèle, lundi 4 octobre, que des dizaines de chefs d'État, des responsables publics et des milliardaires ont échappé au fisc via des sociétés offshore.<span> </span>Parmi eux des centaines de Français, dont Dominique Strauss-Kahn.\n",
      "----------------------------------------------------------------------------------------------------------------------------------------------------------------\n",
      "\n",
      "----------------------------------------------------------------------------------------------------------------------------------------------------------------\n",
      "Les paradis fiscaux n'ont pas disparu, démontre une nouvelle enquête menée par un consortium de journalistes d'investigation. Les Pandora Papers dévoilent les pratiques de dirigeants, politiques et personnalités pour payer le moins d'impôts possibles dans leur pays. Parmi eux, l'ancien directeur du FMI, Dominique Strauss-Kahn.<br/>\n",
      "----------------------------------------------------------------------------------------------------------------------------------------------------------------\n",
      "\n",
      "----------------------------------------------------------------------------------------------------------------------------------------------------------------\n",
      "<span>\"Cash Investigation\" a enquêté sur un homme d'influence, Dominique Strauss-Kahn. Depuis qu'il a quitté la vie publique, l'ancien ministre socialiste gagne le salaire d'un patron du CAC 40 tout en se jouant des frontières fiscales.</span>\n",
      "----------------------------------------------------------------------------------------------------------------------------------------------------------------\n"
     ]
    }
   ],
   "source": [
    "max_start = 300\n",
    "\n",
    "title = {}\n",
    "link = {}\n",
    "description = {}\n",
    "\n",
    "# j = 0\n",
    "# switch = 1\n",
    "request_name = \"dominique+strauss+kahn+pandora\"\n",
    "\n",
    "domaine = \"https://www.francetvinfo.fr\"\n",
    "url_media = \"https://www.francetvinfo.fr/recherche/?request=\"+request_name\n",
    "url = requests.get(url_media)\n",
    "response = url.content\n",
    "soup = bs(response, \"html.parser\")\n",
    "articles = soup.find_all(\"div\",class_=\"flowItem\")\n",
    "\n",
    "i = -1\n",
    "for art in articles:\n",
    "    i+=1\n",
    "\n",
    "    link[i] = art.find(\"a\").get(\"href\")\n",
    "    title[i] = art.find(\"h2\",class_=\"title\").contents[0]\n",
    "\n",
    "\n",
    "    liste_desc = art.find(\"div\",class_=\"description\").find(\"p\")\n",
    "\n",
    "    desc_finale = \"\"\n",
    "    if len(liste_desc) > 1 :\n",
    "        for elem in liste_desc:\n",
    "            for txt in elem :\n",
    "                try :\n",
    "                    desc_finale += str(txt)\n",
    "                except :\n",
    "                    print(\"exception\")\n",
    "    else :\n",
    "        desc_finale = liste_desc.contents[0]\n",
    "\n",
    "    description[i] = desc_finale\n",
    "    \n",
    "\n",
    "    # for elem in all_div:\n",
    "    #     try :\n",
    "    #         movies[j] = elem.h3.find_all(\"a\")[0].contents[0]\n",
    "    #     except :\n",
    "    #         movies[j] = None\n",
    "        \n",
    "    #     try :\n",
    "    #         year = elem.find_all(\"span\", class_=\"lister-item-year text-muted unbold\")[0]\n",
    "    #         years[j] = int([s for s in year.contents[0].split()][-1][1:-1])\n",
    "    #     except :\n",
    "    #         years[j] = None\n",
    "        \n",
    "    #     try :\n",
    "    #         score = elem.find_all(\"div\", class_=\"inline-block ratings-imdb-rating\")[0]\n",
    "    #         imdb[j] = float(score[\"data-value\"])\n",
    "    #     except :\n",
    "    #         imdb[j] = None\n",
    "\n",
    "    #     try :\n",
    "    #         score = int(elem.find_all(\"div\", class_=\"inline-block ratings-metascore\")[0].find(\"span\").contents[0])\n",
    "    #         metacritic[j] = score\n",
    "    #     except :\n",
    "    #         metacritic[j] = None\n",
    "\n",
    "    #     try :\n",
    "    #         votes = elem.find_all(\"p\", class_=\"sort-num_votes-visible\")[0]\n",
    "    #         span_votes = votes.find_all(\"span\")[1].contents[0].split(',')\n",
    "    #         votes_nb[j] = int(span_votes[0] + span_votes[1])\n",
    "    #     except :\n",
    "    #         votes_nb[j] = None\n",
    "\n",
    "    #     j += 1\n",
    "    \n",
    "    # if switch == 1 :\n",
    "    #     time.sleep(randint(2,6))\n",
    "    #     switch = 0\n",
    "    # else :\n",
    "    #     switch = 1"
   ]
  },
  {
   "cell_type": "code",
   "execution_count": 58,
   "metadata": {},
   "outputs": [],
   "source": [
    "liste_desc_finale = art.find(\"div\",class_=\"description\").findAll(\"span\")[0].contents[0]\n"
   ]
  },
  {
   "cell_type": "code",
   "execution_count": 59,
   "metadata": {},
   "outputs": [
    {
     "data": {
      "text/plain": [
       "\"Une nouvelle enquête du consortium international des journalistes révèle, lundi 4 octobre, que des dizaines de chefs d'État, des responsables publics et des milliardaires ont échappé au fisc via des sociétés\\xa0offshore.\""
      ]
     },
     "execution_count": 59,
     "metadata": {},
     "output_type": "execute_result"
    }
   ],
   "source": [
    "liste_desc_finale"
   ]
  },
  {
   "cell_type": "code",
   "execution_count": null,
   "metadata": {},
   "outputs": [],
   "source": []
  }
 ],
 "metadata": {
  "interpreter": {
   "hash": "e4152fc55637a2f02741275b62aa99d3528e817d75779cb88320532a4cdd2304"
  },
  "kernelspec": {
   "display_name": "Python 3.8.8 64-bit ('base': conda)",
   "name": "python3"
  },
  "language_info": {
   "codemirror_mode": {
    "name": "ipython",
    "version": 3
   },
   "file_extension": ".py",
   "mimetype": "text/x-python",
   "name": "python",
   "nbconvert_exporter": "python",
   "pygments_lexer": "ipython3",
   "version": "3.8.8"
  },
  "orig_nbformat": 4
 },
 "nbformat": 4,
 "nbformat_minor": 2
}
