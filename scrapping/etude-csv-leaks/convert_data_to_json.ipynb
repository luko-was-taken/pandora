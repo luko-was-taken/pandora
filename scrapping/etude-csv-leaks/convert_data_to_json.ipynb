{
 "cells": [
  {
   "cell_type": "code",
   "execution_count": 1,
   "metadata": {},
   "outputs": [
    {
     "data": {
      "text/plain": [
       "['data/bahamas/bahamas_leaks.edges.csv',\n",
       " 'data/bahamas/bahamas_leaks.nodes.address.csv',\n",
       " 'data/bahamas/bahamas_leaks.nodes.entity.csv',\n",
       " 'data/bahamas/bahamas_leaks.nodes.intermediary.csv',\n",
       " 'data/bahamas/bahamas_leaks.nodes.officer.csv',\n",
       " 'data/offshore/offshore_leaks.edges.csv',\n",
       " 'data/offshore/offshore_leaks.nodes.address.csv',\n",
       " 'data/offshore/offshore_leaks.nodes.entity.csv',\n",
       " 'data/offshore/offshore_leaks.nodes.intermediary.csv',\n",
       " 'data/offshore/offshore_leaks.nodes.officer.csv',\n",
       " 'data/panama/panama_papers.edges.csv',\n",
       " 'data/panama/panama_papers.nodes.address.csv',\n",
       " 'data/panama/panama_papers.nodes.entity.csv',\n",
       " 'data/panama/panama_papers.nodes.intermediary.csv',\n",
       " 'data/panama/panama_papers.nodes.officer.csv',\n",
       " 'data/paradise/paradise_papers.edges.csv',\n",
       " 'data/paradise/paradise_papers.nodes.address.csv',\n",
       " 'data/paradise/paradise_papers.nodes.entity.csv',\n",
       " 'data/paradise/paradise_papers.nodes.intermediary.csv',\n",
       " 'data/paradise/paradise_papers.nodes.officer.csv',\n",
       " 'data/paradise/paradise_papers.nodes.other.csv']"
      ]
     },
     "execution_count": 1,
     "metadata": {},
     "output_type": "execute_result"
    }
   ],
   "source": [
    "import pandas as pd\n",
    "from os import walk\n",
    "\n",
    "\n",
    "for (dirpath, dirnames, filenames) in walk(\"data\"):\n",
    "    paths = dirnames\n",
    "    break\n",
    "\n",
    "all_csv = []\n",
    "for path in paths :\n",
    "    for (dirpath, dirnames, filenames) in walk(\"data/\"+str(path)):\n",
    "        for filename in filenames :\n",
    "            all_csv.append(\"data/\"+str(path)+\"/\"+filename)\n",
    "\n",
    "# all_csv"
   ]
  },
  {
   "cell_type": "code",
   "execution_count": 6,
   "metadata": {},
   "outputs": [
    {
     "name": "stderr",
     "output_type": "stream",
     "text": [
      "C:\\Users\\Yann-Axel\\anaconda3\\lib\\site-packages\\IPython\\core\\interactiveshell.py:3165: DtypeWarning: Columns (5,6) have mixed types.Specify dtype option on import or set low_memory=False.\n",
      "  has_raised = await self.run_ast_nodes(code_ast.body, cell_name,\n",
      "C:\\Users\\Yann-Axel\\anaconda3\\lib\\site-packages\\IPython\\core\\interactiveshell.py:3165: DtypeWarning: Columns (17) have mixed types.Specify dtype option on import or set low_memory=False.\n",
      "  has_raised = await self.run_ast_nodes(code_ast.body, cell_name,\n",
      "C:\\Users\\Yann-Axel\\anaconda3\\lib\\site-packages\\IPython\\core\\interactiveshell.py:3165: DtypeWarning: Columns (4,5) have mixed types.Specify dtype option on import or set low_memory=False.\n",
      "  has_raised = await self.run_ast_nodes(code_ast.body, cell_name,\n",
      "C:\\Users\\Yann-Axel\\anaconda3\\lib\\site-packages\\IPython\\core\\interactiveshell.py:3165: DtypeWarning: Columns (16) have mixed types.Specify dtype option on import or set low_memory=False.\n",
      "  has_raised = await self.run_ast_nodes(code_ast.body, cell_name,\n",
      "C:\\Users\\Yann-Axel\\anaconda3\\lib\\site-packages\\IPython\\core\\interactiveshell.py:3165: DtypeWarning: Columns (4,5,6,7) have mixed types.Specify dtype option on import or set low_memory=False.\n",
      "  has_raised = await self.run_ast_nodes(code_ast.body, cell_name,\n",
      "C:\\Users\\Yann-Axel\\anaconda3\\lib\\site-packages\\IPython\\core\\interactiveshell.py:3165: DtypeWarning: Columns (3,4) have mixed types.Specify dtype option on import or set low_memory=False.\n",
      "  has_raised = await self.run_ast_nodes(code_ast.body, cell_name,\n",
      "C:\\Users\\Yann-Axel\\anaconda3\\lib\\site-packages\\IPython\\core\\interactiveshell.py:3165: DtypeWarning: Columns (4,5,8,9,10,11,12,13,16) have mixed types.Specify dtype option on import or set low_memory=False.\n",
      "  has_raised = await self.run_ast_nodes(code_ast.body, cell_name,\n",
      "C:\\Users\\Yann-Axel\\anaconda3\\lib\\site-packages\\IPython\\core\\interactiveshell.py:3165: DtypeWarning: Columns (2,3,4,7) have mixed types.Specify dtype option on import or set low_memory=False.\n",
      "  has_raised = await self.run_ast_nodes(code_ast.body, cell_name,\n"
     ]
    }
   ],
   "source": [
    "for doc in all_csv:\n",
    "    df = pd.read_csv(doc)\n",
    "    name = 'data_json'+doc[4:-4]+'.json'\n",
    "    # print(name)\n",
    "    df.to_json(name)"
   ]
  },
  {
   "cell_type": "code",
   "execution_count": null,
   "metadata": {},
   "outputs": [],
   "source": [
    "for doc in all_csv:\n",
    "    df = pd.read_csv(doc)\n",
    "    for col in df.columns:\n",
    "        # keywords = pd.DataFrame()\n",
    "        if df[col].unique().size > 1 and not len([False for x in ['node_id','ID','SourceID','node'] if x in col]):\n",
    "            keywords = pd.DataFrame(df[col].value_counts())\n",
    "            folder = doc.split(\".\")[-2]\n",
    "            name = doc.split('/')[-1][:-4]\n",
    "            keywords.to_csv('keywords/'+folder+\"/\"+name+'_'+col+'_keywords.csv')"
   ]
  }
 ],
 "metadata": {
  "interpreter": {
   "hash": "e4152fc55637a2f02741275b62aa99d3528e817d75779cb88320532a4cdd2304"
  },
  "kernelspec": {
   "display_name": "Python 3.8.8 64-bit ('base': conda)",
   "name": "python3"
  },
  "language_info": {
   "codemirror_mode": {
    "name": "ipython",
    "version": 3
   },
   "file_extension": ".py",
   "mimetype": "text/x-python",
   "name": "python",
   "nbconvert_exporter": "python",
   "pygments_lexer": "ipython3",
   "version": "3.8.8"
  },
  "orig_nbformat": 4
 },
 "nbformat": 4,
 "nbformat_minor": 2
}
